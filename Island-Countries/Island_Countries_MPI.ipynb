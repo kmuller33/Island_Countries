{
 "cells": [
  {
   "cell_type": "markdown",
   "metadata": {},
   "source": [
    "# Island Countries and Subregions"
   ]
  },
  {
   "cell_type": "code",
   "execution_count": 23,
   "metadata": {},
   "outputs": [],
   "source": [
    "import pandas as pd\n",
    "import matplotlib.pyplot as plt\n",
    "%matplotlib inline"
   ]
  },
  {
   "cell_type": "code",
   "execution_count": 2,
   "metadata": {},
   "outputs": [],
   "source": [
    "df = pd.read_csv('datasets/data.csv')"
   ]
  },
  {
   "cell_type": "markdown",
   "metadata": {},
   "source": [
    "Island countries and 2020 population. Data source: https://worldpopulationreview.com/countries/island-countries/"
   ]
  },
  {
   "cell_type": "code",
   "execution_count": 3,
   "metadata": {},
   "outputs": [
    {
     "data": {
      "text/html": [
       "<div>\n",
       "<style scoped>\n",
       "    .dataframe tbody tr th:only-of-type {\n",
       "        vertical-align: middle;\n",
       "    }\n",
       "\n",
       "    .dataframe tbody tr th {\n",
       "        vertical-align: top;\n",
       "    }\n",
       "\n",
       "    .dataframe thead th {\n",
       "        text-align: right;\n",
       "    }\n",
       "</style>\n",
       "<table border=\"1\" class=\"dataframe\">\n",
       "  <thead>\n",
       "    <tr style=\"text-align: right;\">\n",
       "      <th></th>\n",
       "      <th>name</th>\n",
       "      <th>pop2020</th>\n",
       "    </tr>\n",
       "  </thead>\n",
       "  <tbody>\n",
       "    <tr>\n",
       "      <td>0</td>\n",
       "      <td>Antigua and Barbuda</td>\n",
       "      <td>97.929</td>\n",
       "    </tr>\n",
       "    <tr>\n",
       "      <td>1</td>\n",
       "      <td>Australia</td>\n",
       "      <td>25499.884</td>\n",
       "    </tr>\n",
       "    <tr>\n",
       "      <td>2</td>\n",
       "      <td>Bahamas</td>\n",
       "      <td>393.244</td>\n",
       "    </tr>\n",
       "    <tr>\n",
       "      <td>3</td>\n",
       "      <td>Bahrain</td>\n",
       "      <td>1701.575</td>\n",
       "    </tr>\n",
       "    <tr>\n",
       "      <td>4</td>\n",
       "      <td>Barbados</td>\n",
       "      <td>287.375</td>\n",
       "    </tr>\n",
       "  </tbody>\n",
       "</table>\n",
       "</div>"
      ],
      "text/plain": [
       "                  name    pop2020\n",
       "0  Antigua and Barbuda     97.929\n",
       "1            Australia  25499.884\n",
       "2              Bahamas    393.244\n",
       "3              Bahrain   1701.575\n",
       "4             Barbados    287.375"
      ]
     },
     "execution_count": 3,
     "metadata": {},
     "output_type": "execute_result"
    }
   ],
   "source": [
    "df.head()"
   ]
  },
  {
   "cell_type": "code",
   "execution_count": 4,
   "metadata": {},
   "outputs": [],
   "source": [
    "df = df.rename(columns = {'name':'Country'})"
   ]
  },
  {
   "cell_type": "code",
   "execution_count": 5,
   "metadata": {},
   "outputs": [
    {
     "data": {
      "text/plain": [
       "(47, 2)"
      ]
     },
     "execution_count": 5,
     "metadata": {},
     "output_type": "execute_result"
    }
   ],
   "source": [
    "df.shape"
   ]
  },
  {
   "cell_type": "markdown",
   "metadata": {},
   "source": [
    "Multidimensional Poverty Index (MPI) by country. Source: https://www.kaggle.com/ophi/mpi"
   ]
  },
  {
   "cell_type": "code",
   "execution_count": 13,
   "metadata": {},
   "outputs": [],
   "source": [
    "mpi = pd.read_csv('datasets/MPI_national.csv')"
   ]
  },
  {
   "cell_type": "code",
   "execution_count": 14,
   "metadata": {},
   "outputs": [
    {
     "data": {
      "text/html": [
       "<div>\n",
       "<style scoped>\n",
       "    .dataframe tbody tr th:only-of-type {\n",
       "        vertical-align: middle;\n",
       "    }\n",
       "\n",
       "    .dataframe tbody tr th {\n",
       "        vertical-align: top;\n",
       "    }\n",
       "\n",
       "    .dataframe thead th {\n",
       "        text-align: right;\n",
       "    }\n",
       "</style>\n",
       "<table border=\"1\" class=\"dataframe\">\n",
       "  <thead>\n",
       "    <tr style=\"text-align: right;\">\n",
       "      <th></th>\n",
       "      <th>ISO</th>\n",
       "      <th>Country</th>\n",
       "      <th>MPI Urban</th>\n",
       "      <th>Headcount Ratio Urban</th>\n",
       "      <th>Intensity of Deprivation Urban</th>\n",
       "      <th>MPI Rural</th>\n",
       "      <th>Headcount Ratio Rural</th>\n",
       "      <th>Intensity of Deprivation Rural</th>\n",
       "    </tr>\n",
       "  </thead>\n",
       "  <tbody>\n",
       "    <tr>\n",
       "      <td>0</td>\n",
       "      <td>KAZ</td>\n",
       "      <td>Kazakhstan</td>\n",
       "      <td>0.000</td>\n",
       "      <td>0.0</td>\n",
       "      <td>33.3</td>\n",
       "      <td>0.000</td>\n",
       "      <td>0.09</td>\n",
       "      <td>33.3</td>\n",
       "    </tr>\n",
       "    <tr>\n",
       "      <td>1</td>\n",
       "      <td>SRB</td>\n",
       "      <td>Serbia</td>\n",
       "      <td>0.000</td>\n",
       "      <td>0.1</td>\n",
       "      <td>41.4</td>\n",
       "      <td>0.002</td>\n",
       "      <td>0.50</td>\n",
       "      <td>40.3</td>\n",
       "    </tr>\n",
       "    <tr>\n",
       "      <td>2</td>\n",
       "      <td>KGZ</td>\n",
       "      <td>Kyrgyzstan</td>\n",
       "      <td>0.000</td>\n",
       "      <td>0.1</td>\n",
       "      <td>40.2</td>\n",
       "      <td>0.003</td>\n",
       "      <td>0.70</td>\n",
       "      <td>37.1</td>\n",
       "    </tr>\n",
       "    <tr>\n",
       "      <td>3</td>\n",
       "      <td>TUN</td>\n",
       "      <td>Tunisia</td>\n",
       "      <td>0.000</td>\n",
       "      <td>0.1</td>\n",
       "      <td>35.6</td>\n",
       "      <td>0.012</td>\n",
       "      <td>3.18</td>\n",
       "      <td>38.7</td>\n",
       "    </tr>\n",
       "    <tr>\n",
       "      <td>4</td>\n",
       "      <td>ARM</td>\n",
       "      <td>Armenia</td>\n",
       "      <td>0.001</td>\n",
       "      <td>0.2</td>\n",
       "      <td>33.3</td>\n",
       "      <td>0.001</td>\n",
       "      <td>0.39</td>\n",
       "      <td>36.9</td>\n",
       "    </tr>\n",
       "  </tbody>\n",
       "</table>\n",
       "</div>"
      ],
      "text/plain": [
       "   ISO     Country  MPI Urban  Headcount Ratio Urban  \\\n",
       "0  KAZ  Kazakhstan      0.000                    0.0   \n",
       "1  SRB      Serbia      0.000                    0.1   \n",
       "2  KGZ  Kyrgyzstan      0.000                    0.1   \n",
       "3  TUN     Tunisia      0.000                    0.1   \n",
       "4  ARM     Armenia      0.001                    0.2   \n",
       "\n",
       "   Intensity of Deprivation Urban  MPI Rural  Headcount Ratio Rural  \\\n",
       "0                            33.3      0.000                   0.09   \n",
       "1                            41.4      0.002                   0.50   \n",
       "2                            40.2      0.003                   0.70   \n",
       "3                            35.6      0.012                   3.18   \n",
       "4                            33.3      0.001                   0.39   \n",
       "\n",
       "   Intensity of Deprivation Rural  \n",
       "0                            33.3  \n",
       "1                            40.3  \n",
       "2                            37.1  \n",
       "3                            38.7  \n",
       "4                            36.9  "
      ]
     },
     "execution_count": 14,
     "metadata": {},
     "output_type": "execute_result"
    }
   ],
   "source": [
    "mpi.head()"
   ]
  },
  {
   "cell_type": "code",
   "execution_count": 15,
   "metadata": {},
   "outputs": [
    {
     "data": {
      "text/plain": [
       "(102, 8)"
      ]
     },
     "execution_count": 15,
     "metadata": {},
     "output_type": "execute_result"
    }
   ],
   "source": [
    "mpi.shape"
   ]
  },
  {
   "cell_type": "code",
   "execution_count": 16,
   "metadata": {},
   "outputs": [],
   "source": [
    "# df1 : dataframe that contain island countries with mpi data\n",
    "df1 = pd.merge(df, mpi, on=\"Country\")"
   ]
  },
  {
   "cell_type": "code",
   "execution_count": 17,
   "metadata": {},
   "outputs": [
    {
     "data": {
      "text/plain": [
       "(14, 9)"
      ]
     },
     "execution_count": 17,
     "metadata": {},
     "output_type": "execute_result"
    }
   ],
   "source": [
    "df1.shape"
   ]
  },
  {
   "cell_type": "markdown",
   "metadata": {},
   "source": [
    "Finding the missing rows that did not merge with the mpi data "
   ]
  },
  {
   "cell_type": "code",
   "execution_count": 12,
   "metadata": {},
   "outputs": [
    {
     "data": {
      "text/html": [
       "<div>\n",
       "<style scoped>\n",
       "    .dataframe tbody tr th:only-of-type {\n",
       "        vertical-align: middle;\n",
       "    }\n",
       "\n",
       "    .dataframe tbody tr th {\n",
       "        vertical-align: top;\n",
       "    }\n",
       "\n",
       "    .dataframe thead th {\n",
       "        text-align: right;\n",
       "    }\n",
       "</style>\n",
       "<table border=\"1\" class=\"dataframe\">\n",
       "  <thead>\n",
       "    <tr style=\"text-align: right;\">\n",
       "      <th></th>\n",
       "      <th>Country</th>\n",
       "      <th>pop2020</th>\n",
       "    </tr>\n",
       "  </thead>\n",
       "  <tbody>\n",
       "    <tr>\n",
       "      <td>0</td>\n",
       "      <td>Antigua and Barbuda</td>\n",
       "      <td>97.929</td>\n",
       "    </tr>\n",
       "    <tr>\n",
       "      <td>1</td>\n",
       "      <td>Australia</td>\n",
       "      <td>25499.884</td>\n",
       "    </tr>\n",
       "    <tr>\n",
       "      <td>2</td>\n",
       "      <td>Bahamas</td>\n",
       "      <td>393.244</td>\n",
       "    </tr>\n",
       "    <tr>\n",
       "      <td>3</td>\n",
       "      <td>Bahrain</td>\n",
       "      <td>1701.575</td>\n",
       "    </tr>\n",
       "    <tr>\n",
       "      <td>5</td>\n",
       "      <td>Brunei</td>\n",
       "      <td>437.479</td>\n",
       "    </tr>\n",
       "    <tr>\n",
       "      <td>6</td>\n",
       "      <td>Cape Verde</td>\n",
       "      <td>555.987</td>\n",
       "    </tr>\n",
       "    <tr>\n",
       "      <td>8</td>\n",
       "      <td>Cuba</td>\n",
       "      <td>11326.616</td>\n",
       "    </tr>\n",
       "    <tr>\n",
       "      <td>9</td>\n",
       "      <td>Cyprus</td>\n",
       "      <td>1207.359</td>\n",
       "    </tr>\n",
       "    <tr>\n",
       "      <td>10</td>\n",
       "      <td>Dominica</td>\n",
       "      <td>71.986</td>\n",
       "    </tr>\n",
       "    <tr>\n",
       "      <td>12</td>\n",
       "      <td>Fiji</td>\n",
       "      <td>896.445</td>\n",
       "    </tr>\n",
       "    <tr>\n",
       "      <td>14</td>\n",
       "      <td>Iceland</td>\n",
       "      <td>341.243</td>\n",
       "    </tr>\n",
       "    <tr>\n",
       "      <td>16</td>\n",
       "      <td>Ireland</td>\n",
       "      <td>4937.786</td>\n",
       "    </tr>\n",
       "    <tr>\n",
       "      <td>18</td>\n",
       "      <td>Japan</td>\n",
       "      <td>126476.461</td>\n",
       "    </tr>\n",
       "    <tr>\n",
       "      <td>19</td>\n",
       "      <td>Kiribati</td>\n",
       "      <td>119.449</td>\n",
       "    </tr>\n",
       "    <tr>\n",
       "      <td>22</td>\n",
       "      <td>Malta</td>\n",
       "      <td>441.543</td>\n",
       "    </tr>\n",
       "    <tr>\n",
       "      <td>23</td>\n",
       "      <td>Marshall Islands</td>\n",
       "      <td>59.190</td>\n",
       "    </tr>\n",
       "    <tr>\n",
       "      <td>24</td>\n",
       "      <td>Mauritius</td>\n",
       "      <td>1271.768</td>\n",
       "    </tr>\n",
       "    <tr>\n",
       "      <td>25</td>\n",
       "      <td>Micronesia</td>\n",
       "      <td>115.023</td>\n",
       "    </tr>\n",
       "    <tr>\n",
       "      <td>26</td>\n",
       "      <td>Nauru</td>\n",
       "      <td>10.824</td>\n",
       "    </tr>\n",
       "    <tr>\n",
       "      <td>27</td>\n",
       "      <td>New Zealand</td>\n",
       "      <td>4822.233</td>\n",
       "    </tr>\n",
       "    <tr>\n",
       "      <td>28</td>\n",
       "      <td>Palau</td>\n",
       "      <td>18.094</td>\n",
       "    </tr>\n",
       "    <tr>\n",
       "      <td>29</td>\n",
       "      <td>Papua New Guinea</td>\n",
       "      <td>8947.024</td>\n",
       "    </tr>\n",
       "    <tr>\n",
       "      <td>31</td>\n",
       "      <td>Saint Kitts and Nevis</td>\n",
       "      <td>53.199</td>\n",
       "    </tr>\n",
       "    <tr>\n",
       "      <td>33</td>\n",
       "      <td>Saint Vincent and the Grenadines</td>\n",
       "      <td>110.940</td>\n",
       "    </tr>\n",
       "    <tr>\n",
       "      <td>34</td>\n",
       "      <td>Samoa</td>\n",
       "      <td>198.414</td>\n",
       "    </tr>\n",
       "    <tr>\n",
       "      <td>36</td>\n",
       "      <td>Seychelles</td>\n",
       "      <td>98.347</td>\n",
       "    </tr>\n",
       "    <tr>\n",
       "      <td>37</td>\n",
       "      <td>Singapore</td>\n",
       "      <td>5850.342</td>\n",
       "    </tr>\n",
       "    <tr>\n",
       "      <td>38</td>\n",
       "      <td>Solomon Islands</td>\n",
       "      <td>686.884</td>\n",
       "    </tr>\n",
       "    <tr>\n",
       "      <td>39</td>\n",
       "      <td>Sri Lanka</td>\n",
       "      <td>21413.249</td>\n",
       "    </tr>\n",
       "    <tr>\n",
       "      <td>40</td>\n",
       "      <td>Taiwan</td>\n",
       "      <td>23816.775</td>\n",
       "    </tr>\n",
       "    <tr>\n",
       "      <td>42</td>\n",
       "      <td>Tonga</td>\n",
       "      <td>105.695</td>\n",
       "    </tr>\n",
       "    <tr>\n",
       "      <td>44</td>\n",
       "      <td>Tuvalu</td>\n",
       "      <td>11.792</td>\n",
       "    </tr>\n",
       "    <tr>\n",
       "      <td>45</td>\n",
       "      <td>United Kingdom</td>\n",
       "      <td>67886.011</td>\n",
       "    </tr>\n",
       "  </tbody>\n",
       "</table>\n",
       "</div>"
      ],
      "text/plain": [
       "                             Country     pop2020\n",
       "0                Antigua and Barbuda      97.929\n",
       "1                          Australia   25499.884\n",
       "2                            Bahamas     393.244\n",
       "3                            Bahrain    1701.575\n",
       "5                             Brunei     437.479\n",
       "6                         Cape Verde     555.987\n",
       "8                               Cuba   11326.616\n",
       "9                             Cyprus    1207.359\n",
       "10                          Dominica      71.986\n",
       "12                              Fiji     896.445\n",
       "14                           Iceland     341.243\n",
       "16                           Ireland    4937.786\n",
       "18                             Japan  126476.461\n",
       "19                          Kiribati     119.449\n",
       "22                             Malta     441.543\n",
       "23                  Marshall Islands      59.190\n",
       "24                         Mauritius    1271.768\n",
       "25                        Micronesia     115.023\n",
       "26                             Nauru      10.824\n",
       "27                       New Zealand    4822.233\n",
       "28                             Palau      18.094\n",
       "29                  Papua New Guinea    8947.024\n",
       "31             Saint Kitts and Nevis      53.199\n",
       "33  Saint Vincent and the Grenadines     110.940\n",
       "34                             Samoa     198.414\n",
       "36                        Seychelles      98.347\n",
       "37                         Singapore    5850.342\n",
       "38                   Solomon Islands     686.884\n",
       "39                         Sri Lanka   21413.249\n",
       "40                            Taiwan   23816.775\n",
       "42                             Tonga     105.695\n",
       "44                            Tuvalu      11.792\n",
       "45                    United Kingdom   67886.011"
      ]
     },
     "execution_count": 12,
     "metadata": {},
     "output_type": "execute_result"
    }
   ],
   "source": [
    "# missing: list of island countries that is missing mpi data\n",
    "missing = df[(~df.Country.isin(df1.Country))]\n",
    "missing"
   ]
  },
  {
   "cell_type": "code",
   "execution_count": 33,
   "metadata": {},
   "outputs": [
    {
     "data": {
      "text/plain": [
       "(33, 2)"
      ]
     },
     "execution_count": 33,
     "metadata": {},
     "output_type": "execute_result"
    }
   ],
   "source": [
    "missing.shape"
   ]
  },
  {
   "cell_type": "code",
   "execution_count": 31,
   "metadata": {},
   "outputs": [
    {
     "data": {
      "text/html": [
       "<div>\n",
       "<style scoped>\n",
       "    .dataframe tbody tr th:only-of-type {\n",
       "        vertical-align: middle;\n",
       "    }\n",
       "\n",
       "    .dataframe tbody tr th {\n",
       "        vertical-align: top;\n",
       "    }\n",
       "\n",
       "    .dataframe thead th {\n",
       "        text-align: right;\n",
       "    }\n",
       "</style>\n",
       "<table border=\"1\" class=\"dataframe\">\n",
       "  <thead>\n",
       "    <tr style=\"text-align: right;\">\n",
       "      <th></th>\n",
       "      <th>Country</th>\n",
       "      <th>pop2020</th>\n",
       "      <th>ISO</th>\n",
       "      <th>MPI Urban</th>\n",
       "      <th>Headcount Ratio Urban</th>\n",
       "      <th>Intensity of Deprivation Urban</th>\n",
       "      <th>MPI Rural</th>\n",
       "      <th>Headcount Ratio Rural</th>\n",
       "      <th>Intensity of Deprivation Rural</th>\n",
       "    </tr>\n",
       "  </thead>\n",
       "  <tbody>\n",
       "    <tr>\n",
       "      <td>0</td>\n",
       "      <td>Barbados</td>\n",
       "      <td>287.375</td>\n",
       "      <td>BRB</td>\n",
       "      <td>0.004</td>\n",
       "      <td>1.1</td>\n",
       "      <td>34.2</td>\n",
       "      <td>0.002</td>\n",
       "      <td>0.57</td>\n",
       "      <td>34.3</td>\n",
       "    </tr>\n",
       "    <tr>\n",
       "      <td>1</td>\n",
       "      <td>Comoros</td>\n",
       "      <td>869.601</td>\n",
       "      <td>COM</td>\n",
       "      <td>0.084</td>\n",
       "      <td>18.5</td>\n",
       "      <td>45.2</td>\n",
       "      <td>0.213</td>\n",
       "      <td>43.99</td>\n",
       "      <td>48.5</td>\n",
       "    </tr>\n",
       "    <tr>\n",
       "      <td>2</td>\n",
       "      <td>Dominican Republic</td>\n",
       "      <td>10847.910</td>\n",
       "      <td>DOM</td>\n",
       "      <td>0.029</td>\n",
       "      <td>7.9</td>\n",
       "      <td>37.2</td>\n",
       "      <td>0.048</td>\n",
       "      <td>11.69</td>\n",
       "      <td>41.0</td>\n",
       "    </tr>\n",
       "    <tr>\n",
       "      <td>3</td>\n",
       "      <td>Haiti</td>\n",
       "      <td>11402.528</td>\n",
       "      <td>HTI</td>\n",
       "      <td>0.112</td>\n",
       "      <td>25.2</td>\n",
       "      <td>44.6</td>\n",
       "      <td>0.341</td>\n",
       "      <td>65.90</td>\n",
       "      <td>51.7</td>\n",
       "    </tr>\n",
       "    <tr>\n",
       "      <td>4</td>\n",
       "      <td>Indonesia</td>\n",
       "      <td>273523.615</td>\n",
       "      <td>IDN</td>\n",
       "      <td>0.039</td>\n",
       "      <td>10.2</td>\n",
       "      <td>38.7</td>\n",
       "      <td>0.093</td>\n",
       "      <td>20.69</td>\n",
       "      <td>45.0</td>\n",
       "    </tr>\n",
       "    <tr>\n",
       "      <td>5</td>\n",
       "      <td>Jamaica</td>\n",
       "      <td>2961.167</td>\n",
       "      <td>JAM</td>\n",
       "      <td>0.004</td>\n",
       "      <td>1.1</td>\n",
       "      <td>40.0</td>\n",
       "      <td>0.010</td>\n",
       "      <td>2.49</td>\n",
       "      <td>38.7</td>\n",
       "    </tr>\n",
       "    <tr>\n",
       "      <td>6</td>\n",
       "      <td>Madagascar</td>\n",
       "      <td>27691.018</td>\n",
       "      <td>MDG</td>\n",
       "      <td>0.113</td>\n",
       "      <td>24.9</td>\n",
       "      <td>45.3</td>\n",
       "      <td>0.396</td>\n",
       "      <td>73.70</td>\n",
       "      <td>53.8</td>\n",
       "    </tr>\n",
       "    <tr>\n",
       "      <td>7</td>\n",
       "      <td>Maldives</td>\n",
       "      <td>540.544</td>\n",
       "      <td>MDV</td>\n",
       "      <td>0.005</td>\n",
       "      <td>1.6</td>\n",
       "      <td>33.3</td>\n",
       "      <td>0.024</td>\n",
       "      <td>6.76</td>\n",
       "      <td>35.8</td>\n",
       "    </tr>\n",
       "    <tr>\n",
       "      <td>8</td>\n",
       "      <td>Philippines</td>\n",
       "      <td>109581.078</td>\n",
       "      <td>PHL</td>\n",
       "      <td>0.035</td>\n",
       "      <td>8.1</td>\n",
       "      <td>42.7</td>\n",
       "      <td>0.068</td>\n",
       "      <td>13.67</td>\n",
       "      <td>49.9</td>\n",
       "    </tr>\n",
       "    <tr>\n",
       "      <td>9</td>\n",
       "      <td>Saint Lucia</td>\n",
       "      <td>183.627</td>\n",
       "      <td>LCA</td>\n",
       "      <td>0.002</td>\n",
       "      <td>0.5</td>\n",
       "      <td>36.7</td>\n",
       "      <td>0.004</td>\n",
       "      <td>1.05</td>\n",
       "      <td>35.2</td>\n",
       "    </tr>\n",
       "    <tr>\n",
       "      <td>10</td>\n",
       "      <td>Sao Tome and Principe</td>\n",
       "      <td>219.159</td>\n",
       "      <td>STP</td>\n",
       "      <td>0.067</td>\n",
       "      <td>15.9</td>\n",
       "      <td>42.3</td>\n",
       "      <td>0.110</td>\n",
       "      <td>26.18</td>\n",
       "      <td>42.1</td>\n",
       "    </tr>\n",
       "    <tr>\n",
       "      <td>11</td>\n",
       "      <td>Timor-Leste</td>\n",
       "      <td>1318.445</td>\n",
       "      <td>TLS</td>\n",
       "      <td>0.176</td>\n",
       "      <td>37.3</td>\n",
       "      <td>47.3</td>\n",
       "      <td>0.414</td>\n",
       "      <td>77.03</td>\n",
       "      <td>53.7</td>\n",
       "    </tr>\n",
       "    <tr>\n",
       "      <td>12</td>\n",
       "      <td>Trinidad and Tobago</td>\n",
       "      <td>1399.488</td>\n",
       "      <td>TTO</td>\n",
       "      <td>0.018</td>\n",
       "      <td>5.4</td>\n",
       "      <td>33.6</td>\n",
       "      <td>0.020</td>\n",
       "      <td>5.66</td>\n",
       "      <td>35.4</td>\n",
       "    </tr>\n",
       "    <tr>\n",
       "      <td>13</td>\n",
       "      <td>Vanuatu</td>\n",
       "      <td>307.145</td>\n",
       "      <td>VUT</td>\n",
       "      <td>0.039</td>\n",
       "      <td>9.8</td>\n",
       "      <td>39.3</td>\n",
       "      <td>0.155</td>\n",
       "      <td>36.13</td>\n",
       "      <td>43.0</td>\n",
       "    </tr>\n",
       "  </tbody>\n",
       "</table>\n",
       "</div>"
      ],
      "text/plain": [
       "                  Country     pop2020  ISO  MPI Urban  Headcount Ratio Urban  \\\n",
       "0                Barbados     287.375  BRB      0.004                    1.1   \n",
       "1                 Comoros     869.601  COM      0.084                   18.5   \n",
       "2      Dominican Republic   10847.910  DOM      0.029                    7.9   \n",
       "3                   Haiti   11402.528  HTI      0.112                   25.2   \n",
       "4               Indonesia  273523.615  IDN      0.039                   10.2   \n",
       "5                 Jamaica    2961.167  JAM      0.004                    1.1   \n",
       "6              Madagascar   27691.018  MDG      0.113                   24.9   \n",
       "7                Maldives     540.544  MDV      0.005                    1.6   \n",
       "8             Philippines  109581.078  PHL      0.035                    8.1   \n",
       "9             Saint Lucia     183.627  LCA      0.002                    0.5   \n",
       "10  Sao Tome and Principe     219.159  STP      0.067                   15.9   \n",
       "11            Timor-Leste    1318.445  TLS      0.176                   37.3   \n",
       "12    Trinidad and Tobago    1399.488  TTO      0.018                    5.4   \n",
       "13                Vanuatu     307.145  VUT      0.039                    9.8   \n",
       "\n",
       "    Intensity of Deprivation Urban  MPI Rural  Headcount Ratio Rural  \\\n",
       "0                             34.2      0.002                   0.57   \n",
       "1                             45.2      0.213                  43.99   \n",
       "2                             37.2      0.048                  11.69   \n",
       "3                             44.6      0.341                  65.90   \n",
       "4                             38.7      0.093                  20.69   \n",
       "5                             40.0      0.010                   2.49   \n",
       "6                             45.3      0.396                  73.70   \n",
       "7                             33.3      0.024                   6.76   \n",
       "8                             42.7      0.068                  13.67   \n",
       "9                             36.7      0.004                   1.05   \n",
       "10                            42.3      0.110                  26.18   \n",
       "11                            47.3      0.414                  77.03   \n",
       "12                            33.6      0.020                   5.66   \n",
       "13                            39.3      0.155                  36.13   \n",
       "\n",
       "    Intensity of Deprivation Rural  \n",
       "0                             34.3  \n",
       "1                             48.5  \n",
       "2                             41.0  \n",
       "3                             51.7  \n",
       "4                             45.0  \n",
       "5                             38.7  \n",
       "6                             53.8  \n",
       "7                             35.8  \n",
       "8                             49.9  \n",
       "9                             35.2  \n",
       "10                            42.1  \n",
       "11                            53.7  \n",
       "12                            35.4  \n",
       "13                            43.0  "
      ]
     },
     "execution_count": 31,
     "metadata": {},
     "output_type": "execute_result"
    }
   ],
   "source": [
    "df1"
   ]
  },
  {
   "cell_type": "code",
   "execution_count": 42,
   "metadata": {},
   "outputs": [
    {
     "data": {
      "image/png": "[encoded data removed]",
      "text/plain": [
       "<Figure size 432x288 with 1 Axes>"
      ]
     },
     "metadata": {
      "needs_background": "light"
     },
     "output_type": "display_data"
    },
    {
     "data": {
      "image/png": "[encoded data removed]",
      "text/plain": [
       "<Figure size 432x288 with 1 Axes>"
      ]
     },
     "metadata": {
      "needs_background": "light"
     },
     "output_type": "display_data"
    },
    {
     "data": {
      "image/png": "[encoded data removed]",
      "text/plain": [
       "<Figure size 432x288 with 1 Axes>"
      ]
     },
     "metadata": {
      "needs_background": "light"
     },
     "output_type": "display_data"
    }
   ],
   "source": [
    "# Plots \n",
    "plt.barh(df1['Country'], df1['MPI Rural'].sort_values())\n",
    "plt.title('MPI Rural for Select Island Countries')\n",
    "plt.show()\n",
    "\n",
    "plt.barh(df1['Country'], df1['Headcount Ratio Rural'].sort_values())\n",
    "plt.title('Rural Headcount Ratio for Select Island Countries')\n",
    "plt.show()\n",
    "\n",
    "plt.barh(df1['Country'], df1['Intensity of Deprivation Rural'].sort_values())\n",
    "plt.title('Rural Intensity of Deprivation for Select Island Countries')\n",
    "plt.show()"
   ]
  },
  {
   "cell_type": "code",
   "execution_count": null,
   "metadata": {},
   "outputs": [],
   "source": []
  },
  {
   "cell_type": "markdown",
   "metadata": {},
   "source": [
    "Multidimensional Poverty Index (MPI) by subregion. Source: https://www.kaggle.com/ophi/mpi"
   ]
  },
  {
   "cell_type": "code",
   "execution_count": 43,
   "metadata": {},
   "outputs": [],
   "source": [
    "mpi_sub = pd.read_csv('datasets/MPI_subnational.csv')"
   ]
  },
  {
   "cell_type": "code",
   "execution_count": 44,
   "metadata": {},
   "outputs": [
    {
     "data": {
      "text/html": [
       "<div>\n",
       "<style scoped>\n",
       "    .dataframe tbody tr th:only-of-type {\n",
       "        vertical-align: middle;\n",
       "    }\n",
       "\n",
       "    .dataframe tbody tr th {\n",
       "        vertical-align: top;\n",
       "    }\n",
       "\n",
       "    .dataframe thead th {\n",
       "        text-align: right;\n",
       "    }\n",
       "</style>\n",
       "<table border=\"1\" class=\"dataframe\">\n",
       "  <thead>\n",
       "    <tr style=\"text-align: right;\">\n",
       "      <th></th>\n",
       "      <th>ISO country code</th>\n",
       "      <th>Country</th>\n",
       "      <th>Sub-national region</th>\n",
       "      <th>World region</th>\n",
       "      <th>MPI National</th>\n",
       "      <th>MPI Regional</th>\n",
       "      <th>Headcount Ratio Regional</th>\n",
       "      <th>Intensity of deprivation Regional</th>\n",
       "    </tr>\n",
       "  </thead>\n",
       "  <tbody>\n",
       "    <tr>\n",
       "      <td>0</td>\n",
       "      <td>AFG</td>\n",
       "      <td>Afghanistan</td>\n",
       "      <td>Badakhshan</td>\n",
       "      <td>South Asia</td>\n",
       "      <td>0.295</td>\n",
       "      <td>0.387</td>\n",
       "      <td>67.5</td>\n",
       "      <td>57.3</td>\n",
       "    </tr>\n",
       "    <tr>\n",
       "      <td>1</td>\n",
       "      <td>AFG</td>\n",
       "      <td>Afghanistan</td>\n",
       "      <td>Badghis</td>\n",
       "      <td>South Asia</td>\n",
       "      <td>0.295</td>\n",
       "      <td>0.466</td>\n",
       "      <td>79.3</td>\n",
       "      <td>58.8</td>\n",
       "    </tr>\n",
       "    <tr>\n",
       "      <td>2</td>\n",
       "      <td>AFG</td>\n",
       "      <td>Afghanistan</td>\n",
       "      <td>Baghlan</td>\n",
       "      <td>South Asia</td>\n",
       "      <td>0.295</td>\n",
       "      <td>0.300</td>\n",
       "      <td>59.7</td>\n",
       "      <td>50.3</td>\n",
       "    </tr>\n",
       "    <tr>\n",
       "      <td>3</td>\n",
       "      <td>AFG</td>\n",
       "      <td>Afghanistan</td>\n",
       "      <td>Balkh</td>\n",
       "      <td>South Asia</td>\n",
       "      <td>0.295</td>\n",
       "      <td>0.301</td>\n",
       "      <td>55.7</td>\n",
       "      <td>54.1</td>\n",
       "    </tr>\n",
       "    <tr>\n",
       "      <td>4</td>\n",
       "      <td>AFG</td>\n",
       "      <td>Afghanistan</td>\n",
       "      <td>Bamyan</td>\n",
       "      <td>South Asia</td>\n",
       "      <td>0.295</td>\n",
       "      <td>0.325</td>\n",
       "      <td>61.0</td>\n",
       "      <td>53.3</td>\n",
       "    </tr>\n",
       "  </tbody>\n",
       "</table>\n",
       "</div>"
      ],
      "text/plain": [
       "  ISO country code      Country Sub-national region World region  \\\n",
       "0              AFG  Afghanistan          Badakhshan   South Asia   \n",
       "1              AFG  Afghanistan             Badghis   South Asia   \n",
       "2              AFG  Afghanistan             Baghlan   South Asia   \n",
       "3              AFG  Afghanistan               Balkh   South Asia   \n",
       "4              AFG  Afghanistan              Bamyan   South Asia   \n",
       "\n",
       "   MPI National  MPI Regional  Headcount Ratio Regional  \\\n",
       "0         0.295         0.387                      67.5   \n",
       "1         0.295         0.466                      79.3   \n",
       "2         0.295         0.300                      59.7   \n",
       "3         0.295         0.301                      55.7   \n",
       "4         0.295         0.325                      61.0   \n",
       "\n",
       "   Intensity of deprivation Regional  \n",
       "0                               57.3  \n",
       "1                               58.8  \n",
       "2                               50.3  \n",
       "3                               54.1  \n",
       "4                               53.3  "
      ]
     },
     "execution_count": 44,
     "metadata": {},
     "output_type": "execute_result"
    }
   ],
   "source": [
    "mpi_sub.head()"
   ]
  },
  {
   "cell_type": "code",
   "execution_count": 47,
   "metadata": {},
   "outputs": [],
   "source": [
    "# df2 : dataframe that contain island countries subregions with mpi data\n",
    "df2 = pd.merge(df, mpi_sub, on=\"Country\")"
   ]
  },
  {
   "cell_type": "code",
   "execution_count": 48,
   "metadata": {},
   "outputs": [
    {
     "data": {
      "text/plain": [
       "(131, 9)"
      ]
     },
     "execution_count": 48,
     "metadata": {},
     "output_type": "execute_result"
    }
   ],
   "source": [
    "df2.shape"
   ]
  },
  {
   "cell_type": "code",
   "execution_count": 49,
   "metadata": {},
   "outputs": [
    {
     "data": {
      "text/html": [
       "<div>\n",
       "<style scoped>\n",
       "    .dataframe tbody tr th:only-of-type {\n",
       "        vertical-align: middle;\n",
       "    }\n",
       "\n",
       "    .dataframe tbody tr th {\n",
       "        vertical-align: top;\n",
       "    }\n",
       "\n",
       "    .dataframe thead th {\n",
       "        text-align: right;\n",
       "    }\n",
       "</style>\n",
       "<table border=\"1\" class=\"dataframe\">\n",
       "  <thead>\n",
       "    <tr style=\"text-align: right;\">\n",
       "      <th></th>\n",
       "      <th>Country</th>\n",
       "      <th>pop2020</th>\n",
       "      <th>ISO country code</th>\n",
       "      <th>Sub-national region</th>\n",
       "      <th>World region</th>\n",
       "      <th>MPI National</th>\n",
       "      <th>MPI Regional</th>\n",
       "      <th>Headcount Ratio Regional</th>\n",
       "      <th>Intensity of deprivation Regional</th>\n",
       "    </tr>\n",
       "  </thead>\n",
       "  <tbody>\n",
       "    <tr>\n",
       "      <td>0</td>\n",
       "      <td>Comoros</td>\n",
       "      <td>869.601</td>\n",
       "      <td>COM</td>\n",
       "      <td>Mwali (Mohðli)</td>\n",
       "      <td>Sub-Saharan Africa</td>\n",
       "      <td>0.173</td>\n",
       "      <td>0.213</td>\n",
       "      <td>45.0</td>\n",
       "      <td>47.3</td>\n",
       "    </tr>\n",
       "    <tr>\n",
       "      <td>1</td>\n",
       "      <td>Comoros</td>\n",
       "      <td>869.601</td>\n",
       "      <td>COM</td>\n",
       "      <td>Ndzuwani (Ndzouani or Anjouan)</td>\n",
       "      <td>Sub-Saharan Africa</td>\n",
       "      <td>0.173</td>\n",
       "      <td>0.220</td>\n",
       "      <td>42.8</td>\n",
       "      <td>51.5</td>\n",
       "    </tr>\n",
       "    <tr>\n",
       "      <td>2</td>\n",
       "      <td>Comoros</td>\n",
       "      <td>869.601</td>\n",
       "      <td>COM</td>\n",
       "      <td>Ngazidja (Grande Comore)</td>\n",
       "      <td>Sub-Saharan Africa</td>\n",
       "      <td>0.173</td>\n",
       "      <td>0.116</td>\n",
       "      <td>27.6</td>\n",
       "      <td>42.3</td>\n",
       "    </tr>\n",
       "    <tr>\n",
       "      <td>3</td>\n",
       "      <td>Dominican Republic</td>\n",
       "      <td>10847.910</td>\n",
       "      <td>DOM</td>\n",
       "      <td>Cibao Nordeste</td>\n",
       "      <td>Latin America and Caribbean</td>\n",
       "      <td>0.034</td>\n",
       "      <td>0.028</td>\n",
       "      <td>7.5</td>\n",
       "      <td>36.9</td>\n",
       "    </tr>\n",
       "    <tr>\n",
       "      <td>4</td>\n",
       "      <td>Dominican Republic</td>\n",
       "      <td>10847.910</td>\n",
       "      <td>DOM</td>\n",
       "      <td>Cibao Noroeste</td>\n",
       "      <td>Latin America and Caribbean</td>\n",
       "      <td>0.034</td>\n",
       "      <td>0.047</td>\n",
       "      <td>11.6</td>\n",
       "      <td>40.3</td>\n",
       "    </tr>\n",
       "  </tbody>\n",
       "</table>\n",
       "</div>"
      ],
      "text/plain": [
       "              Country    pop2020 ISO country code  \\\n",
       "0             Comoros    869.601              COM   \n",
       "1             Comoros    869.601              COM   \n",
       "2             Comoros    869.601              COM   \n",
       "3  Dominican Republic  10847.910              DOM   \n",
       "4  Dominican Republic  10847.910              DOM   \n",
       "\n",
       "              Sub-national region                 World region  MPI National  \\\n",
       "0                  Mwali (Mohðli)           Sub-Saharan Africa         0.173   \n",
       "1  Ndzuwani (Ndzouani or Anjouan)           Sub-Saharan Africa         0.173   \n",
       "2        Ngazidja (Grande Comore)           Sub-Saharan Africa         0.173   \n",
       "3                  Cibao Nordeste  Latin America and Caribbean         0.034   \n",
       "4                  Cibao Noroeste  Latin America and Caribbean         0.034   \n",
       "\n",
       "   MPI Regional  Headcount Ratio Regional  Intensity of deprivation Regional  \n",
       "0         0.213                      45.0                               47.3  \n",
       "1         0.220                      42.8                               51.5  \n",
       "2         0.116                      27.6                               42.3  \n",
       "3         0.028                       7.5                               36.9  \n",
       "4         0.047                      11.6                               40.3  "
      ]
     },
     "execution_count": 49,
     "metadata": {},
     "output_type": "execute_result"
    }
   ],
   "source": [
    "df2.head()"
   ]
  },
  {
   "cell_type": "code",
   "execution_count": 50,
   "metadata": {},
   "outputs": [
    {
     "data": {
      "text/plain": [
       "array(['Sub-Saharan Africa', 'Latin America and Caribbean',\n",
       "       'East Asia and the Pacific'], dtype=object)"
      ]
     },
     "execution_count": 50,
     "metadata": {},
     "output_type": "execute_result"
    }
   ],
   "source": [
    "worldRegions = df2['World region'].unique()\n",
    "worldRegions"
   ]
  },
  {
   "cell_type": "code",
   "execution_count": 51,
   "metadata": {},
   "outputs": [
    {
     "data": {
      "text/plain": [
       "array(['Comoros', 'Dominican Republic', 'Haiti', 'Indonesia', 'Jamaica',\n",
       "       'Madagascar', 'Philippines', 'Sao Tome and Principe',\n",
       "       'Timor-Leste', 'Trinidad and Tobago'], dtype=object)"
      ]
     },
     "execution_count": 51,
     "metadata": {},
     "output_type": "execute_result"
    }
   ],
   "source": [
    "countries = df2['Country'].unique()\n",
    "countries"
   ]
  },
  {
   "cell_type": "code",
   "execution_count": 54,
   "metadata": {},
   "outputs": [
    {
     "data": {
      "text/plain": [
       "array(['Mwali (Mohðli)', 'Ndzuwani (Ndzouani or Anjouan)',\n",
       "       'Ngazidja (Grande Comore)', 'Cibao Nordeste', 'Cibao Noroeste',\n",
       "       'Cibao Norte', 'Cibao Sur', 'Del Yuma', 'El Valle', 'Enriquillo',\n",
       "       'Higuamo', 'Metropolitana', 'Valdesia',\n",
       "       'Aire Mðtropolitaine/Reste-Ouest', 'Sud-Est', 'Nord', 'Nord-Est',\n",
       "       'Artibonite', 'Centre', 'Sud', 'Grande-Anse', 'Nord-Ouest',\n",
       "       'Nippes', 'Aceh', 'North Sumatera', 'West Sumatera', 'Riau',\n",
       "       'Jambi', 'South Sumatera', 'Bengkulu', 'Lampung',\n",
       "       'Bangka Belitung', 'Riau Islands', 'DKI Jakarta', 'West Java',\n",
       "       'Central Java', 'DI Yogyakarta', 'East Java', 'Banten', 'Bali',\n",
       "       'West Nusa Tenggara', 'East Nusa Tenggara', 'West Kalimantan',\n",
       "       'Central Kalimantan', 'South Kalimantan', 'East Kalimantan',\n",
       "       'North Sulawesi', 'Central Sulawesi', 'South Sulawesi',\n",
       "       'Southeast Sulawesi', 'Gorontalo', 'West Sulawesi', 'Maluku',\n",
       "       'North Maluku', 'West Papua', 'Papua', 'Kingston', 'St.  Andrew',\n",
       "       'St. Thomas', 'Portland', 'St. Mary', 'St. Ann', 'Trelawny',\n",
       "       'St. James', 'Hanover', 'Westmoreland', 'St. Elizabeth',\n",
       "       'Manchester', 'Clarendon', 'St. Catherine', 'Analamanga',\n",
       "       'Vakinankaratra', 'Itasy', 'Bongolava', 'Haute Matsiatra',\n",
       "       \"Anamoroni'i Mania\", 'Vatovavy Fitovinany', 'Ihorombe',\n",
       "       'Atsimo Atsinanana', 'Atsinanana', 'Analanjirofo',\n",
       "       'Alaotra Mangoro', 'Boeny', 'Sofia', 'Betsiboka', 'Melaky',\n",
       "       'Atsimo Andrefana', 'Androy', 'Anosy', 'Menabe', 'Diana', 'Sava',\n",
       "       'National Capital Region', 'Cordillera Admin Region',\n",
       "       'Ilocos Region', 'Cagayan Valley', 'Central Luzon', 'Calabarzon',\n",
       "       'Mimaropa', 'Bicol Region', 'Western Visayas', 'Central Visayas',\n",
       "       'Eastern Visayas', 'Zamboanga Peninsula', 'Northern Mindanao',\n",
       "       'Davao Peninsula', 'Soccsksargen', 'CARAGA', 'Armm',\n",
       "       'Regi\\x8bo Autonoma de Principe', 'Regi\\x8bo Centro Este',\n",
       "       'Regi\\x8bo Norte Oeste', 'Regi\\x8bo Sul Este', 'Aileu', 'Ainaro',\n",
       "       'Baucau', 'Bobonaro', 'Cova Lima', 'Dili', 'Ermera', 'Liquica',\n",
       "       'Lautem', 'Manufahi', 'Manatuto', 'Oecussi', 'Viqueque',\n",
       "       'North West', 'Eastern', 'North Central', 'South West', 'Tobago'],\n",
       "      dtype=object)"
      ]
     },
     "execution_count": 54,
     "metadata": {},
     "output_type": "execute_result"
    }
   ],
   "source": [
    "subNationalRegions = df2['Sub-national region'].unique()\n",
    "subNationalRegions"
   ]
  },
  {
   "cell_type": "code",
   "execution_count": 53,
   "metadata": {},
   "outputs": [],
   "source": [
    "# Plotting mpi for each subregion grouped by world country"
   ]
  },
  {
   "cell_type": "code",
   "execution_count": null,
   "metadata": {},
   "outputs": [],
   "source": []
  },
  {
   "cell_type": "code",
   "execution_count": null,
   "metadata": {},
   "outputs": [],
   "source": []
  },
  {
   "cell_type": "code",
   "execution_count": null,
   "metadata": {},
   "outputs": [],
   "source": []
  }
 ],
 "metadata": {
  "kernelspec": {
   "display_name": "Python 3",
   "language": "python",
   "name": "python3"
  },
  "language_info": {
   "codemirror_mode": {
    "name": "ipython",
    "version": 3
   },
   "file_extension": ".py",
   "mimetype": "text/x-python",
   "name": "python",
   "nbconvert_exporter": "python",
   "pygments_lexer": "ipython3",
   "version": "3.7.4"
  }
 },
 "nbformat": 4,
 "nbformat_minor": 4
}
